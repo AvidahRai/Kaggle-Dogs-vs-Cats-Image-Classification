{
 "cells": [
  {
   "cell_type": "code",
   "execution_count": 9,
   "metadata": {},
   "outputs": [],
   "source": [
    "import tensorflow\n",
    "physical_devices = tensorflow.config.list_physical_devices('GPU')\n",
    "tensorflow.config.experimental.set_memory_growth(physical_devices[0], True)"
   ]
  },
  {
   "cell_type": "markdown",
   "metadata": {},
   "source": [
    "## Dogs vs Cats Image Classification - LeNet5"
   ]
  },
  {
   "cell_type": "code",
   "execution_count": 10,
   "metadata": {},
   "outputs": [
    {
     "name": "stdout",
     "output_type": "stream",
     "text": [
      "Num GPUs Available:  1\n"
     ]
    }
   ],
   "source": [
    "print(\"Num GPUs Available: \", len(tensorflow.config.list_physical_devices('GPU')))\n",
    "classes = 2\n",
    "img_width, img_height, img_channels = 224, 224, 3\n",
    "input_shape = (img_width, img_height, img_channels)"
   ]
  },
  {
   "cell_type": "code",
   "execution_count": 11,
   "metadata": {},
   "outputs": [
    {
     "name": "stdout",
     "output_type": "stream",
     "text": [
      "Found 18697 images belonging to 2 classes.\n",
      "Found 6303 images belonging to 2 classes.\n"
     ]
    }
   ],
   "source": [
    "from utilities import get_train_val_iterator\n",
    "train_iterator, val_iterator = get_train_val_iterator( \n",
    "    input_shape, \n",
    "    \"datasets//dogs-vs-cats//train\",\n",
    "    \"datasets//dogs-vs-cats//val\",\n",
    "    batch_size = 64\n",
    ")"
   ]
  },
  {
   "cell_type": "markdown",
   "metadata": {},
   "source": [
    "### LeNet5 Sequential API"
   ]
  },
  {
   "cell_type": "code",
   "execution_count": 12,
   "metadata": {},
   "outputs": [
    {
     "name": "stdout",
     "output_type": "stream",
     "text": [
      "Model: \"LeNet5_basic\"\n",
      "_________________________________________________________________\n",
      "Layer (type)                 Output Shape              Param #   \n",
      "=================================================================\n",
      "conv2d (Conv2D)              (None, 112, 112, 6)       456       \n",
      "_________________________________________________________________\n",
      "max_pooling2d (MaxPooling2D) (None, 56, 56, 6)         0         \n",
      "_________________________________________________________________\n",
      "conv2d_1 (Conv2D)            (None, 52, 52, 16)        2416      \n",
      "_________________________________________________________________\n",
      "max_pooling2d_1 (MaxPooling2 (None, 26, 26, 16)        0         \n",
      "_________________________________________________________________\n",
      "flatten (Flatten)            (None, 10816)             0         \n",
      "_________________________________________________________________\n",
      "dense (Dense)                (None, 120)               1298040   \n",
      "_________________________________________________________________\n",
      "dense_1 (Dense)              (None, 84)                10164     \n",
      "_________________________________________________________________\n",
      "dense_2 (Dense)              (None, 2)                 170       \n",
      "=================================================================\n",
      "Total params: 1,311,246\n",
      "Trainable params: 1,311,246\n",
      "Non-trainable params: 0\n",
      "_________________________________________________________________\n"
     ]
    }
   ],
   "source": [
    "from tensorflow.keras.models import Model, Sequential\n",
    "from tensorflow.keras.layers import Conv2D, MaxPooling2D, Flatten, Dense\n",
    "\n",
    "model = Sequential( name=\"LeNet5_basic\")\n",
    "\n",
    "# 1 Convolution Layer\n",
    "model.add( Conv2D( 6, kernel_size=(5,5), padding=\"SAME\", strides = 2,\n",
    "        activation=\"relu\", input_shape=(img_height, img_width, img_channels ) ))\n",
    "model.add( MaxPooling2D( pool_size=(2,2) ))\n",
    "\n",
    "# 2 Convolution Layer\n",
    "model.add( Conv2D(16, kernel_size=(5,5), strides = 1, activation=\"relu\" ) )\n",
    "model.add( MaxPooling2D( pool_size=(2,2) ))\n",
    "\n",
    "# Dense Layers\n",
    "model.add( Flatten() )\n",
    "model.add( Dense( 120, activation='relu' ) )\n",
    "model.add( Dense( 84, activation='relu' ) )\n",
    "\n",
    "# Output\n",
    "model.add( Dense( classes, activation='softmax' ) )\n",
    "model.compile(optimizer='sgd', loss='sparse_categorical_crossentropy', metrics=['accuracy'])\n",
    "model.summary()"
   ]
  },
  {
   "cell_type": "code",
   "execution_count": 13,
   "metadata": {},
   "outputs": [
    {
     "name": "stdout",
     "output_type": "stream",
     "text": [
      "WARNING:tensorflow:From <ipython-input-13-6811c9b68848>:10: Model.fit_generator (from tensorflow.python.keras.engine.training) is deprecated and will be removed in a future version.\n",
      "Instructions for updating:\n",
      "Please use Model.fit, which supports generators.\n",
      "WARNING:tensorflow:sample_weight modes were coerced from\n",
      "  ...\n",
      "    to  \n",
      "  ['...']\n",
      "WARNING:tensorflow:sample_weight modes were coerced from\n",
      "  ...\n",
      "    to  \n",
      "  ['...']\n",
      "Train for 293 steps, validate for 99 steps\n",
      "Epoch 1/500\n",
      "293/293 [==============================] - 91s 311ms/step - loss: 0.6851 - accuracy: 0.5550 - val_loss: 0.6771 - val_accuracy: 0.5626\n",
      "Epoch 2/500\n",
      "293/293 [==============================] - 84s 288ms/step - loss: 0.6719 - accuracy: 0.5845 - val_loss: 0.6616 - val_accuracy: 0.6050\n",
      "Epoch 3/500\n",
      "293/293 [==============================] - 86s 293ms/step - loss: 0.6589 - accuracy: 0.5990 - val_loss: 0.6507 - val_accuracy: 0.5904\n",
      "Epoch 4/500\n",
      "293/293 [==============================] - 75s 256ms/step - loss: 0.6394 - accuracy: 0.6300 - val_loss: 0.6203 - val_accuracy: 0.6508\n",
      "Epoch 5/500\n",
      "293/293 [==============================] - 67s 228ms/step - loss: 0.6215 - accuracy: 0.6471 - val_loss: 0.6063 - val_accuracy: 0.6579\n",
      "Epoch 6/500\n",
      "293/293 [==============================] - 75s 258ms/step - loss: 0.6057 - accuracy: 0.6679 - val_loss: 0.5887 - val_accuracy: 0.6787\n",
      "Epoch 7/500\n",
      "293/293 [==============================] - 66s 226ms/step - loss: 0.5920 - accuracy: 0.6832 - val_loss: 0.5838 - val_accuracy: 0.6892\n",
      "Epoch 8/500\n",
      "293/293 [==============================] - 60s 205ms/step - loss: 0.5735 - accuracy: 0.6970 - val_loss: 0.5663 - val_accuracy: 0.7057\n",
      "Epoch 9/500\n",
      "293/293 [==============================] - 60s 204ms/step - loss: 0.5624 - accuracy: 0.7094 - val_loss: 0.5516 - val_accuracy: 0.7190\n",
      "Epoch 10/500\n",
      "293/293 [==============================] - 65s 223ms/step - loss: 0.5464 - accuracy: 0.7225 - val_loss: 0.5432 - val_accuracy: 0.7216\n",
      "Epoch 11/500\n",
      "293/293 [==============================] - 79s 269ms/step - loss: 0.5393 - accuracy: 0.7251 - val_loss: 0.5433 - val_accuracy: 0.7244\n",
      "Epoch 12/500\n",
      "293/293 [==============================] - 81s 278ms/step - loss: 0.5302 - accuracy: 0.7323 - val_loss: 0.5295 - val_accuracy: 0.7341\n",
      "Epoch 13/500\n",
      "293/293 [==============================] - 79s 269ms/step - loss: 0.5136 - accuracy: 0.7440 - val_loss: 0.5230 - val_accuracy: 0.7379\n",
      "Epoch 14/500\n",
      "293/293 [==============================] - 79s 268ms/step - loss: 0.5005 - accuracy: 0.7591 - val_loss: 0.5121 - val_accuracy: 0.7458\n",
      "Epoch 15/500\n",
      "293/293 [==============================] - 79s 271ms/step - loss: 0.4911 - accuracy: 0.7593 - val_loss: 0.5104 - val_accuracy: 0.7465\n",
      "Epoch 16/500\n",
      "293/293 [==============================] - 79s 271ms/step - loss: 0.4747 - accuracy: 0.7728 - val_loss: 0.4965 - val_accuracy: 0.7542\n",
      "Epoch 17/500\n",
      "293/293 [==============================] - 79s 268ms/step - loss: 0.4657 - accuracy: 0.7762 - val_loss: 0.5213 - val_accuracy: 0.7471\n",
      "Epoch 18/500\n",
      "293/293 [==============================] - 75s 257ms/step - loss: 0.4443 - accuracy: 0.7890 - val_loss: 0.4907 - val_accuracy: 0.7612\n",
      "Epoch 19/500\n",
      "293/293 [==============================] - 82s 278ms/step - loss: 0.4267 - accuracy: 0.8019 - val_loss: 0.5004 - val_accuracy: 0.7525\n",
      "Epoch 20/500\n",
      "293/293 [==============================] - 81s 275ms/step - loss: 0.4161 - accuracy: 0.8084 - val_loss: 0.4934 - val_accuracy: 0.7557\n",
      "Epoch 21/500\n",
      "293/293 [==============================] - 79s 270ms/step - loss: 0.3961 - accuracy: 0.8182 - val_loss: 0.4935 - val_accuracy: 0.7625\n",
      "Epoch 22/500\n",
      "293/293 [==============================] - 80s 273ms/step - loss: 0.3768 - accuracy: 0.8282 - val_loss: 0.4893 - val_accuracy: 0.7600\n",
      "Epoch 23/500\n",
      "293/293 [==============================] - 80s 273ms/step - loss: 0.3622 - accuracy: 0.8398 - val_loss: 0.5276 - val_accuracy: 0.7579\n",
      "Epoch 24/500\n",
      "293/293 [==============================] - 80s 272ms/step - loss: 0.3446 - accuracy: 0.8502 - val_loss: 0.4983 - val_accuracy: 0.7666\n",
      "Epoch 25/500\n",
      "293/293 [==============================] - 78s 266ms/step - loss: 0.3252 - accuracy: 0.8603 - val_loss: 0.5274 - val_accuracy: 0.7546\n",
      "Epoch 26/500\n",
      "293/293 [==============================] - 75s 256ms/step - loss: 0.3032 - accuracy: 0.8729 - val_loss: 0.5499 - val_accuracy: 0.7547\n",
      "Epoch 27/500\n",
      "293/293 [==============================] - 84s 287ms/step - loss: 0.2941 - accuracy: 0.8770 - val_loss: 0.5870 - val_accuracy: 0.7417\n",
      "Epoch 00027: early stopping\n"
     ]
    }
   ],
   "source": [
    "earlyStopping = tensorflow.keras.callbacks.EarlyStopping(\n",
    "                    monitor='val_loss', patience=5, verbose=1 )\n",
    "\n",
    "history = model.fit_generator(\n",
    "    generator = train_iterator, \n",
    "    steps_per_epoch = len(train_iterator), \n",
    "    validation_data = val_iterator, \n",
    "    validation_steps = len(val_iterator), \n",
    "    epochs = 500,\n",
    "    callbacks = [ earlyStopping ]\n",
    ")"
   ]
  },
  {
   "cell_type": "code",
   "execution_count": 15,
   "metadata": {},
   "outputs": [
    {
     "data": {
      "image/png": "[encoded data removed]",
      "text/plain": [
       "<Figure size 1080x360 with 2 Axes>"
      ]
     },
     "metadata": {
      "needs_background": "light"
     },
     "output_type": "display_data"
    }
   ],
   "source": [
    "from utilities import plot_training_history\n",
    "plot_training_history(history)"
   ]
  },
  {
   "cell_type": "code",
   "execution_count": 16,
   "metadata": {},
   "outputs": [],
   "source": [
    "# Save model\n",
    "save_path = \"saved_models\\\\\" + model.name + \".h5\"\n",
    "model.save( save_path )"
   ]
  },
  {
   "cell_type": "markdown",
   "metadata": {},
   "source": [
    "#### Validation Accuracy: 74.17\n",
    "#### Validation Loss: 0.2941"
   ]
  },
  {
   "cell_type": "code",
   "execution_count": null,
   "metadata": {},
   "outputs": [],
   "source": []
  }
 ],
 "metadata": {
  "kernelspec": {
   "display_name": "Python 3",
   "language": "python",
   "name": "python3"
  },
  "language_info": {
   "codemirror_mode": {
    "name": "ipython",
    "version": 3
   },
   "file_extension": ".py",
   "mimetype": "text/x-python",
   "name": "python",
   "nbconvert_exporter": "python",
   "pygments_lexer": "ipython3",
   "version": "3.7.7"
  }
 },
 "nbformat": 4,
 "nbformat_minor": 4
}
