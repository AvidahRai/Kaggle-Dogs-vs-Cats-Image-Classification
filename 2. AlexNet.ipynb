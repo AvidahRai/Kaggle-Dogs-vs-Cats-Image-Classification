{
 "cells": [
  {
   "cell_type": "code",
   "execution_count": 1,
   "metadata": {},
   "outputs": [],
   "source": [
    "import tensorflow\n",
    "physical_devices = tensorflow.config.list_physical_devices('GPU')\n",
    "tensorflow.config.experimental.set_memory_growth(physical_devices[0], True)"
   ]
  },
  {
   "cell_type": "markdown",
   "metadata": {},
   "source": [
    "## Dogs vs Cats Image Classification - AlexNet"
   ]
  },
  {
   "cell_type": "code",
   "execution_count": 2,
   "metadata": {},
   "outputs": [
    {
     "name": "stdout",
     "output_type": "stream",
     "text": [
      "Num GPUs Available:  1\n"
     ]
    }
   ],
   "source": [
    "print(\"Num GPUs Available: \", len(tensorflow.config.list_physical_devices('GPU')))\n",
    "classes = 2\n",
    "img_width, img_height, img_channels = 224, 224, 3\n",
    "input_shape = (img_width, img_height, img_channels)"
   ]
  },
  {
   "cell_type": "code",
   "execution_count": 3,
   "metadata": {},
   "outputs": [
    {
     "name": "stdout",
     "output_type": "stream",
     "text": [
      "Found 18697 images belonging to 2 classes.\n",
      "Found 6303 images belonging to 2 classes.\n"
     ]
    }
   ],
   "source": [
    "from utilities import get_train_val_iterator\n",
    "train_iterator, val_iterator = get_train_val_iterator( \n",
    "    input_shape, \n",
    "    \"datasets//dogs-vs-cats//train\",\n",
    "    \"datasets//dogs-vs-cats//val\",\n",
    "    batch_size = 64\n",
    ")"
   ]
  },
  {
   "cell_type": "markdown",
   "metadata": {},
   "source": [
    "### AlexNet Sequential API "
   ]
  },
  {
   "cell_type": "code",
   "execution_count": 4,
   "metadata": {},
   "outputs": [
    {
     "name": "stdout",
     "output_type": "stream",
     "text": [
      "Model: \"AlexNet_basic\"\n",
      "_________________________________________________________________\n",
      "Layer (type)                 Output Shape              Param #   \n",
      "=================================================================\n",
      "conv2d (Conv2D)              (None, 56, 56, 96)        34944     \n",
      "_________________________________________________________________\n",
      "max_pooling2d (MaxPooling2D) (None, 27, 27, 96)        0         \n",
      "_________________________________________________________________\n",
      "conv2d_1 (Conv2D)            (None, 27, 27, 256)       614656    \n",
      "_________________________________________________________________\n",
      "max_pooling2d_1 (MaxPooling2 (None, 13, 13, 256)       0         \n",
      "_________________________________________________________________\n",
      "conv2d_2 (Conv2D)            (None, 13, 13, 384)       885120    \n",
      "_________________________________________________________________\n",
      "conv2d_3 (Conv2D)            (None, 13, 13, 384)       1327488   \n",
      "_________________________________________________________________\n",
      "conv2d_4 (Conv2D)            (None, 13, 13, 256)       884992    \n",
      "_________________________________________________________________\n",
      "max_pooling2d_2 (MaxPooling2 (None, 6, 6, 256)         0         \n",
      "_________________________________________________________________\n",
      "flatten (Flatten)            (None, 9216)              0         \n",
      "_________________________________________________________________\n",
      "dense (Dense)                (None, 4096)              37752832  \n",
      "_________________________________________________________________\n",
      "dense_1 (Dense)              (None, 4096)              16781312  \n",
      "_________________________________________________________________\n",
      "dense_2 (Dense)              (None, 2)                 8194      \n",
      "=================================================================\n",
      "Total params: 58,289,538\n",
      "Trainable params: 58,289,538\n",
      "Non-trainable params: 0\n",
      "_________________________________________________________________\n"
     ]
    }
   ],
   "source": [
    "from tensorflow.keras.models import Model, Sequential\n",
    "from tensorflow.keras.layers import Conv2D, MaxPooling2D, Flatten, Dense\n",
    "\n",
    "model = Sequential(name=\"AlexNet_basic\")\n",
    "\n",
    "# 1 Convolution Layer\n",
    "model.add( Conv2D( 96, kernel_size=(11,11), padding=\"SAME\", strides=(4,4),\n",
    "        activation=\"relu\", input_shape=(224, 224, 3 ) ))\n",
    "model.add( MaxPooling2D( pool_size=(3,3), strides=(2,2) ))\n",
    "\n",
    "# 2 Convolution Layer\n",
    "model.add( Conv2D(256, kernel_size=(5,5), strides = 1, activation=\"relu\", padding=\"SAME\" ) )\n",
    "model.add( MaxPooling2D( pool_size=(3,3), strides=(2,2) ))\n",
    "\n",
    "# 3 Convolution Layer\n",
    "model.add( Conv2D(384, kernel_size=(3,3), strides = 1, activation=\"relu\", padding=\"SAME\" ) )\n",
    "model.add( Conv2D(384, kernel_size=(3,3), strides = 1, activation=\"relu\", padding=\"SAME\" ) )\n",
    "model.add( Conv2D(256, kernel_size=(3,3), strides = 1, activation=\"relu\", padding=\"SAME\" ) )\n",
    "model.add( MaxPooling2D( pool_size=(3,3), strides=(2,2) ))\n",
    "\n",
    "# Dense Layers\n",
    "model.add( Flatten() )\n",
    "model.add( Dense( 4096, activation='relu' ) )\n",
    "model.add( Dense( 4096, activation='relu' ) )\n",
    "\n",
    "# Output\n",
    "model.add( Dense( classes, activation='softmax' ) )\n",
    "model.compile(optimizer='sgd', loss='sparse_categorical_crossentropy', metrics=['accuracy'])\n",
    "model.summary()"
   ]
  },
  {
   "cell_type": "code",
   "execution_count": 5,
   "metadata": {},
   "outputs": [
    {
     "name": "stdout",
     "output_type": "stream",
     "text": [
      "WARNING:tensorflow:From <ipython-input-5-6811c9b68848>:10: Model.fit_generator (from tensorflow.python.keras.engine.training) is deprecated and will be removed in a future version.\n",
      "Instructions for updating:\n",
      "Please use Model.fit, which supports generators.\n",
      "WARNING:tensorflow:sample_weight modes were coerced from\n",
      "  ...\n",
      "    to  \n",
      "  ['...']\n",
      "WARNING:tensorflow:sample_weight modes were coerced from\n",
      "  ...\n",
      "    to  \n",
      "  ['...']\n",
      "Train for 293 steps, validate for 99 steps\n",
      "Epoch 1/500\n",
      "293/293 [==============================] - 78s 265ms/step - loss: 0.6889 - accuracy: 0.5457 - val_loss: 0.6821 - val_accuracy: 0.5754\n",
      "Epoch 2/500\n",
      "293/293 [==============================] - 60s 205ms/step - loss: 0.6783 - accuracy: 0.5781 - val_loss: 0.7199 - val_accuracy: 0.5040\n",
      "Epoch 3/500\n",
      "293/293 [==============================] - 60s 206ms/step - loss: 0.6691 - accuracy: 0.5919 - val_loss: 0.6538 - val_accuracy: 0.6365\n",
      "Epoch 4/500\n",
      "293/293 [==============================] - 60s 206ms/step - loss: 0.6522 - accuracy: 0.6230 - val_loss: 0.6425 - val_accuracy: 0.6359\n",
      "Epoch 5/500\n",
      "293/293 [==============================] - 61s 209ms/step - loss: 0.6112 - accuracy: 0.6682 - val_loss: 0.5794 - val_accuracy: 0.7003\n",
      "Epoch 6/500\n",
      "293/293 [==============================] - 61s 207ms/step - loss: 0.5693 - accuracy: 0.7056 - val_loss: 0.6030 - val_accuracy: 0.6835\n",
      "Epoch 7/500\n",
      "293/293 [==============================] - 61s 208ms/step - loss: 0.5350 - accuracy: 0.7360 - val_loss: 0.5097 - val_accuracy: 0.7535\n",
      "Epoch 8/500\n",
      "293/293 [==============================] - 61s 207ms/step - loss: 0.4937 - accuracy: 0.7630 - val_loss: 0.4625 - val_accuracy: 0.7801\n",
      "Epoch 9/500\n",
      "293/293 [==============================] - 61s 207ms/step - loss: 0.4666 - accuracy: 0.7782 - val_loss: 0.4814 - val_accuracy: 0.7728\n",
      "Epoch 10/500\n",
      "293/293 [==============================] - 61s 208ms/step - loss: 0.4330 - accuracy: 0.8017 - val_loss: 0.5765 - val_accuracy: 0.7073\n",
      "Epoch 11/500\n",
      "293/293 [==============================] - 62s 211ms/step - loss: 0.4096 - accuracy: 0.8127 - val_loss: 0.4707 - val_accuracy: 0.7872\n",
      "Epoch 12/500\n",
      "293/293 [==============================] - 61s 207ms/step - loss: 0.3814 - accuracy: 0.8290 - val_loss: 0.3965 - val_accuracy: 0.8223\n",
      "Epoch 13/500\n",
      "293/293 [==============================] - 61s 207ms/step - loss: 0.3629 - accuracy: 0.8378 - val_loss: 0.3771 - val_accuracy: 0.8323\n",
      "Epoch 14/500\n",
      "293/293 [==============================] - 62s 212ms/step - loss: 0.3405 - accuracy: 0.8495 - val_loss: 0.3793 - val_accuracy: 0.8299\n",
      "Epoch 15/500\n",
      "293/293 [==============================] - 61s 208ms/step - loss: 0.3192 - accuracy: 0.8605 - val_loss: 0.3537 - val_accuracy: 0.8426\n",
      "Epoch 16/500\n",
      "293/293 [==============================] - 61s 208ms/step - loss: 0.2987 - accuracy: 0.8702 - val_loss: 0.3445 - val_accuracy: 0.8421\n",
      "Epoch 17/500\n",
      "293/293 [==============================] - 61s 208ms/step - loss: 0.2739 - accuracy: 0.8814 - val_loss: 0.3369 - val_accuracy: 0.8479\n",
      "Epoch 18/500\n",
      "293/293 [==============================] - 61s 208ms/step - loss: 0.2588 - accuracy: 0.8885 - val_loss: 0.3024 - val_accuracy: 0.8715\n",
      "Epoch 19/500\n",
      "293/293 [==============================] - 62s 211ms/step - loss: 0.2391 - accuracy: 0.8989 - val_loss: 0.2990 - val_accuracy: 0.8682\n",
      "Epoch 20/500\n",
      "293/293 [==============================] - 61s 208ms/step - loss: 0.2147 - accuracy: 0.9096 - val_loss: 0.3088 - val_accuracy: 0.8626\n",
      "Epoch 21/500\n",
      "293/293 [==============================] - 61s 210ms/step - loss: 0.1996 - accuracy: 0.9172 - val_loss: 0.3022 - val_accuracy: 0.8709\n",
      "Epoch 22/500\n",
      "293/293 [==============================] - 61s 209ms/step - loss: 0.1854 - accuracy: 0.9239 - val_loss: 0.3160 - val_accuracy: 0.8694\n",
      "Epoch 23/500\n",
      "293/293 [==============================] - 62s 210ms/step - loss: 0.1707 - accuracy: 0.9313 - val_loss: 0.3178 - val_accuracy: 0.8720\n",
      "Epoch 24/500\n",
      "293/293 [==============================] - 62s 210ms/step - loss: 0.1535 - accuracy: 0.9379 - val_loss: 0.3002 - val_accuracy: 0.8761\n",
      "Epoch 00024: early stopping\n"
     ]
    }
   ],
   "source": [
    "earlyStopping = tensorflow.keras.callbacks.EarlyStopping(\n",
    "                    monitor='val_loss', patience=5, verbose=1 )\n",
    "\n",
    "history = model.fit_generator(\n",
    "    generator = train_iterator, \n",
    "    steps_per_epoch = len(train_iterator), \n",
    "    validation_data = val_iterator, \n",
    "    validation_steps = len(val_iterator), \n",
    "    epochs = 500,\n",
    "    callbacks = [ earlyStopping ]\n",
    ")"
   ]
  },
  {
   "cell_type": "code",
   "execution_count": 6,
   "metadata": {},
   "outputs": [
    {
     "data": {
      "image/png": "[encoded data removed]",
      "text/plain": [
       "<Figure size 1080x360 with 2 Axes>"
      ]
     },
     "metadata": {
      "needs_background": "light"
     },
     "output_type": "display_data"
    }
   ],
   "source": [
    "from utilities import plot_training_history\n",
    "plot_training_history(history)"
   ]
  },
  {
   "cell_type": "code",
   "execution_count": 7,
   "metadata": {},
   "outputs": [],
   "source": [
    "# Save model\n",
    "save_path = \"saved_models\\\\\" + model.name + \".h5\"\n",
    "model.save( save_path )"
   ]
  },
  {
   "cell_type": "markdown",
   "metadata": {},
   "source": [
    "#### Validation Accuracy: 87.61%\n",
    "#### Validation Loss: 0.1535"
   ]
  }
 ],
 "metadata": {
  "kernelspec": {
   "display_name": "Python 3",
   "language": "python",
   "name": "python3"
  },
  "language_info": {
   "codemirror_mode": {
    "name": "ipython",
    "version": 3
   },
   "file_extension": ".py",
   "mimetype": "text/x-python",
   "name": "python",
   "nbconvert_exporter": "python",
   "pygments_lexer": "ipython3",
   "version": "3.7.7"
  }
 },
 "nbformat": 4,
 "nbformat_minor": 4
}
